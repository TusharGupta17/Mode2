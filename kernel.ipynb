{
  "cells": [
    {
      "metadata": {
        "_uuid": "8f2839f25d086af736a60e9eeb907d3b93b6e0e5",
        "_cell_guid": "b1076dfc-b9ad-4769-8c92-a6c4dae69d19",
        "trusted": true
      },
      "cell_type": "code",
      "source": "# This Python 3 environment comes with many helpful analytics libraries installed\n# It is defined by the kaggle/python docker image: https://github.com/kaggle/docker-python\n# For example, here's several helpful packages to load in \n\nimport numpy as np # linear algebra\nimport pandas as pd # data processing, CSV file I/O (e.g. pd.read_csv)\nfrom sklearn.impute import SimpleImputer\nfrom xgboost import XGBRegressor\n\n# Input data files are available in the \"../input/\" directory.\n# For example, running this (by clicking run or pressing Shift+Enter) will list the files in the input directory\nimport warnings\nwarnings.filterwarnings('ignore')\n\nimport os\nprint(os.listdir(\"../input\"))\n\n# Any results you write to the current directory are saved as output.",
      "execution_count": null,
      "outputs": []
    },
    {
      "metadata": {
        "_cell_guid": "79c7e3d0-c299-4dcb-8224-4455121ee9b0",
        "_uuid": "d629ff2d2480ee46fbb7e2d37f6b5fab8052498a",
        "trusted": true
      },
      "cell_type": "code",
      "source": "home_train=pd.read_csv(\"../input/application_train.csv\")\nhome_test=pd.read_csv(\"../input/application_test.csv\")\nbureau = pd.read_csv('../input/bureau.csv')\nbureau_balance = pd.read_csv('../input/bureau_balance.csv')\nbureau=pd.get_dummies(bureau)\nbureau_balance=pd.get_dummies(bureau_balance)\nbureau_balance_agg = bureau_balance.groupby('SK_ID_BUREAU', as_index = False).agg(['count', 'mean', 'max', 'min', 'sum']).reset_index()\ncolumns=['SK_ID_BUREAU']\nfor var in bureau_balance_agg.columns.levels[0]:\n    if var != 'SK_ID_BUREAU':\n        for stat in bureau_balance_agg.columns.levels[1][:-1]:\n            columns.append('bureau_balance_%s_%s' % (var, stat))\nbureau_balance_agg.columns = columns\nbureau=bureau.merge(bureau_balance_agg,on = 'SK_ID_BUREAU',how='left')\nloan_counts = bureau.groupby('SK_ID_CURR', as_index=False)['SK_ID_BUREAU'].count().rename(columns = {'SK_ID_BUREAU': 'loan_counts'})\nhome_train = home_train.merge(loan_counts, on = 'SK_ID_CURR', how = 'left')\nhome_train['loan_counts'] = home_train['loan_counts'].fillna(0)\nbureau_agg = bureau.drop(columns = ['SK_ID_BUREAU']).groupby('SK_ID_CURR', as_index = False).agg(['count', 'mean', 'max', 'min', 'sum']).reset_index()\n\ncolumns = ['SK_ID_CURR']\nfor var in bureau_agg.columns.levels[0]:\n    if var != 'SK_ID_CURR':\n        for stat in bureau_agg.columns.levels[1][:-1]:\n            columns.append('bureau_%s_%s' % (var, stat))\nbureau_agg.columns = columns\nhome_train = home_train.merge(bureau_agg, on = 'SK_ID_CURR', how = 'left')\nhome_test = home_test.merge(loan_counts, on = 'SK_ID_CURR', how = 'left')\nhome_test['loan_counts'] = home_test['loan_counts'].fillna(0)\nhome_test = home_test.merge(bureau_agg, on = 'SK_ID_CURR', how = 'left')",
      "execution_count": null,
      "outputs": []
    },
    {
      "metadata": {
        "trusted": true,
        "_uuid": "c47463b1870b2512fb459261e83f6e24b8a5de69"
      },
      "cell_type": "code",
      "source": "one_hot_encoded_home_train = pd.get_dummies(home_train)\none_hot_encoded_home_test = pd.get_dummies(home_test)\none_hot_encoded_home_train.head()\ny=one_hot_encoded_home_train['TARGET']\nfinal_train, final_test = one_hot_encoded_home_train.align(one_hot_encoded_home_test, join='inner', axis=1)\nmy_imputer = SimpleImputer()\nimputed_home_train = pd.DataFrame(my_imputer.fit_transform(final_train))\nimputed_home_test = pd.DataFrame(my_imputer.transform(final_test))\nimputed_home_train.columns = final_train.columns\nimputed_home_test.columns = final_test.columns\n\nfrom sklearn.model_selection import train_test_split\ntrain_X, test_X, train_y, test_y = train_test_split(imputed_home_train, y, test_size=0.25)\n\nmodel = XGBRegressor(n_estimators=1000, learning_rate=0.05)\nmodel.fit(train_X, train_y, early_stopping_rounds=5, eval_set=[(test_X, test_y)], verbose=False)\n\npredictions=model.predict(imputed_home_test)\nsubmit = home_test[['SK_ID_CURR']]\nsubmit['TARGET'] = abs(predictions)\n\n\nsubmit.to_csv('xgbp.csv', index = False)",
      "execution_count": null,
      "outputs": []
    }
  ],
  "metadata": {
    "kernelspec": {
      "display_name": "Python 3",
      "language": "python",
      "name": "python3"
    },
    "language_info": {
      "name": "python",
      "version": "3.6.6",
      "mimetype": "text/x-python",
      "codemirror_mode": {
        "name": "ipython",
        "version": 3
      },
      "pygments_lexer": "ipython3",
      "nbconvert_exporter": "python",
      "file_extension": ".py"
    }
  },
  "nbformat": 4,
  "nbformat_minor": 1
}